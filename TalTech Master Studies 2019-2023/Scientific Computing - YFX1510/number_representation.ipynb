{
 "cells": [
  {
   "cell_type": "markdown",
   "metadata": {},
   "source": [
    "## Assignment: Number representation\n",
    "### Urmas Pitsi, Scientific computing YFX1510, Spring 2020\n",
    "\n",
    "Present the (decimal) numbers 0.1, 0.225, 2.24, 5, 18, 63 in binary, octal and hexadecimal."
   ]
  },
  {
   "cell_type": "markdown",
   "metadata": {},
   "source": [
    "Decimal 0.1: binary=0.0001100110, octal=0.0631463146, hex=0.1999999999"
   ]
  },
  {
   "cell_type": "markdown",
   "metadata": {},
   "source": [
    "Decimal 0.225: binary=0.0011100110, octal=0.1631463146, hex=0.3999999999"
   ]
  },
  {
   "cell_type": "markdown",
   "metadata": {},
   "source": [
    "Decimal 2.24: binary=10.0011110101, octal=2.1727024365, hex=2.3D70A3D70A"
   ]
  },
  {
   "cell_type": "markdown",
   "metadata": {},
   "source": [
    "Decimal 5: binary=101, octal=5, hex=5"
   ]
  },
  {
   "cell_type": "markdown",
   "metadata": {},
   "source": [
    "Decimal 18: binary=10010, octal=22, hex=12"
   ]
  },
  {
   "cell_type": "markdown",
   "metadata": {},
   "source": [
    "Decimal 63: binary=111111, octal=77, hex=3F"
   ]
  },
  {
   "cell_type": "markdown",
   "metadata": {},
   "source": [
    "### Below are the functions that produce solution."
   ]
  },
  {
   "cell_type": "markdown",
   "metadata": {},
   "source": [
    "#### Register mappings of symbols that map decimal values to symbol and vice versa."
   ]
  },
  {
   "cell_type": "code",
   "execution_count": 3,
   "metadata": {
    "scrolled": true
   },
   "outputs": [],
   "source": [
    "SYMBOLS2VALUES = { '0':0,'1':1,'2':2,'3':3,'4':4,'5':5,'6':6,'7':7,'8':8,'9':9,'A':10,'B':11,'C':12,'D':13,'E':14,'F':15,'G':16,'H':17 }\n",
    "VALUES2SYMBOLS = {v:k for k,v in SYMBOLS2VALUES.items() }\n",
    "#(SYMBOLS2VALUES, VALUES2SYMBOLS)"
   ]
  },
  {
   "cell_type": "code",
   "execution_count": 4,
   "metadata": {},
   "outputs": [],
   "source": [
    "def to_decimal(number_str, source_base=2):\n",
    "    return sum(SYMBOLS2VALUES[c] * source_base**i for i,c in enumerate(number_str[::-1]))\n",
    "\n",
    "def to_decimal_after_comma(number_str, source_base=2):\n",
    "    return sum(SYMBOLS2VALUES[c] * source_base**-(i+1) for i,c in enumerate(number_str))"
   ]
  },
  {
   "cell_type": "code",
   "execution_count": 5,
   "metadata": {},
   "outputs": [],
   "source": [
    "def from_decimal(number, target_base=2):\n",
    "    next_symbol = VALUES2SYMBOLS[number % target_base]\n",
    "    next_number = number // target_base\n",
    "    if next_number > 0:\n",
    "        return from_decimal(next_number, target_base) + next_symbol\n",
    "    else:\n",
    "        return next_symbol\n",
    "\n",
    "def from_decimal_after_comma(number, target_base=2, precision=10):\n",
    "    integral, fraction = str.split(str(number), sep='.')\n",
    "    next_number = float(f'0.{fraction}') * target_base\n",
    "    next_symbol = VALUES2SYMBOLS[int(integral)]\n",
    "    if precision > 0:\n",
    "        return next_symbol + from_decimal_after_comma(next_number, target_base, precision - 1)\n",
    "    else:\n",
    "        return next_symbol"
   ]
  },
  {
   "cell_type": "code",
   "execution_count": 6,
   "metadata": {},
   "outputs": [],
   "source": [
    "def convert_base(number_str='10', source_base=10, target_base=2):\n",
    "    # Check if fractional number.\n",
    "    nrs = str.split(number_str, sep='.')\n",
    "    if len(nrs) < 2:\n",
    "        # If not fractional number ie if it is whole number.\n",
    "        decimal_value = to_decimal(number_str=number_str, source_base=source_base)\n",
    "        return from_decimal(number=decimal_value, target_base=target_base)\n",
    "    else:\n",
    "        integral = convert_base(nrs[0], source_base=source_base, target_base=target_base)\n",
    "        fraction_value = float(f'0.{nrs[1]}')\n",
    "        fraction = from_decimal_after_comma(number=fraction_value, target_base=target_base)[1:]\n",
    "        return f'{integral}.{fraction}'"
   ]
  },
  {
   "cell_type": "code",
   "execution_count": 9,
   "metadata": {},
   "outputs": [],
   "source": [
    "def create_solution(number_str):\n",
    "    binary = convert_base(number_str=number_str, source_base=10, target_base=2)\n",
    "    octal = convert_base(number_str=number_str, source_base=10, target_base=8)\n",
    "    hex = convert_base(number_str=number_str, source_base=10, target_base=16)\n",
    "    return f'Decimal {number_str}: binary={binary}, octal={octal}, hex={hex}'"
   ]
  },
  {
   "cell_type": "markdown",
   "metadata": {},
   "source": [
    "### Solution"
   ]
  },
  {
   "cell_type": "code",
   "execution_count": 10,
   "metadata": {},
   "outputs": [
    {
     "data": {
      "text/plain": [
       "['Decimal 0.1: binary=0.0001100110, octal=0.0631463146, hex=0.1999999999',\n",
       " 'Decimal 0.225: binary=0.0011100110, octal=0.1631463146, hex=0.3999999999',\n",
       " 'Decimal 2.24: binary=10.0011110101, octal=2.1727024365, hex=2.3D70A3D70A',\n",
       " 'Decimal 5: binary=101, octal=5, hex=5',\n",
       " 'Decimal 18: binary=10010, octal=22, hex=12',\n",
       " 'Decimal 63: binary=111111, octal=77, hex=3F']"
      ]
     },
     "execution_count": 10,
     "metadata": {},
     "output_type": "execute_result"
    }
   ],
   "source": [
    "[create_solution(i) for i in ['0.1','0.225','2.24','5','18','63']]"
   ]
  },
  {
   "cell_type": "markdown",
   "metadata": {},
   "source": [
    "#### Unit tests to make sure our calculations are correct"
   ]
  },
  {
   "cell_type": "code",
   "execution_count": 11,
   "metadata": {},
   "outputs": [],
   "source": [
    "assert(convert_base(number_str='20', source_base=10, target_base=2)=='10100')\n",
    "assert(convert_base(number_str='20', source_base=10, target_base=16)=='14')\n",
    "assert(convert_base(number_str='123', source_base=10, target_base=2)=='1111011')\n",
    "assert(convert_base(number_str='123', source_base=10, target_base=8)=='173')\n",
    "assert(convert_base(number_str='123', source_base=10, target_base=16)=='7B')\n",
    "\n",
    "assert(convert_base(number_str='0.1', source_base=10, target_base=8)=='0.0631463146')\n",
    "assert(convert_base(number_str='2.24', source_base=10, target_base=2)=='10.0011110101')\n",
    "assert(convert_base(number_str='2.24', source_base=10, target_base=16)=='2.3D70A3D70A')\n"
   ]
  },
  {
   "cell_type": "code",
   "execution_count": null,
   "metadata": {},
   "outputs": [],
   "source": []
  }
 ],
 "metadata": {
  "kernelspec": {
   "display_name": "Python 3",
   "language": "python",
   "name": "python3"
  },
  "language_info": {
   "codemirror_mode": {
    "name": "ipython",
    "version": 3
   },
   "file_extension": ".py",
   "mimetype": "text/x-python",
   "name": "python",
   "nbconvert_exporter": "python",
   "pygments_lexer": "ipython3",
   "version": "3.7.3"
  }
 },
 "nbformat": 4,
 "nbformat_minor": 2
}
